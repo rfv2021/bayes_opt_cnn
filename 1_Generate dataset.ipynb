{
 "cells": [
  {
   "cell_type": "code",
   "execution_count": 393,
   "id": "acfe8eac",
   "metadata": {},
   "outputs": [
    {
     "data": {
      "text/plain": [
       "'/Users/rui/My Drive (alhavaite.rui@gmail.com)/Course on AI and ML/Jupyter notebooks/Capstone competition/final_submission'"
      ]
     },
     "execution_count": 393,
     "metadata": {},
     "output_type": "execute_result"
    }
   ],
   "source": [
    "import numpy as np\n",
    "\n",
    "from diffractio import degrees, mm, nm, um\n",
    "from diffractio import np, plt, sp\n",
    "from diffractio.scalar_sources_XY import Scalar_source_XY\n",
    "\n",
    "from skimage.measure import block_reduce#to perform mean pooling\n",
    "from scipy import ndimage\n",
    "from skimage.transform import resize\n",
    "\n",
    "import datetime\n",
    "from tqdm import tqdm\n",
    "\n",
    "\n",
    "def crop_center(img,cropx,cropy):\n",
    "    y,x = img.shape\n",
    "    startx = x//2-(cropx//2)\n",
    "    starty = y//2-(cropy//2)    \n",
    "    return img[starty:starty+cropy,startx:startx+cropx]\n",
    "\n",
    "from PIL import Image\n",
    "from pathlib import Path\n",
    "\n",
    "import os\n",
    "os.getcwd()"
   ]
  },
  {
   "cell_type": "markdown",
   "id": "531a689d",
   "metadata": {},
   "source": [
    "## Generate Hermite Gaussian modes with arbitrary operations for dataset augmentation"
   ]
  },
  {
   "cell_type": "markdown",
   "id": "19d0a622",
   "metadata": {},
   "source": [
    "Implementation of laguerre gaussian beams following module difractio:\n",
    "\n",
    "https://diffractio.readthedocs.io/en/latest/source/tutorial/scalar_XY/sources_xy.html"
   ]
  },
  {
   "cell_type": "code",
   "execution_count": 416,
   "id": "dca387f7",
   "metadata": {},
   "outputs": [],
   "source": [
    "def generate_arb_mode(size = (32, 32)):\n",
    "\n",
    "    N = int(np.random.choice([0, 1, 2]))\n",
    "    M = int(np.random.choice([0, 1, 2]))\n",
    "    \n",
    "    x0 = np.linspace(-1 * mm, 1 * mm, 512)\n",
    "    y0 = np.linspace(-1 * mm, 1 * mm, 512)\n",
    "    wavelength = 0.6238 * um\n",
    "\n",
    "    u = Scalar_source_XY(x=x0, y=y0, wavelength=wavelength)\n",
    "\n",
    "    u.hermite_gauss_beam(A=1,\n",
    "                         r0=(0, 0), #position of waist in um\n",
    "                         w0=[0.2 * mm, 0.2 * mm],\n",
    "                         z0=(0, 0 * mm),\n",
    "                         z=0,\n",
    "                         n=N,\n",
    "                         m=M)\n",
    "\n",
    "\n",
    "    #Normalise intensity\n",
    "    intensity = np.abs(u.u)**2\n",
    "    intensity = intensity / np.max(intensity) #normalise\n",
    "\n",
    "    #rotate and crop\n",
    "    rot_angle = np.random.uniform(low=-10., high=10.) #rotate\n",
    "    intensity = ndimage.rotate(intensity, rot_angle, reshape=False)\n",
    "    crop_x, crop_y = int(len(x0)*0.9), int(len(x0)*0.9) #crop\n",
    "    intensity = crop_center(intensity, cropx = crop_x, cropy= crop_y)\n",
    "    \n",
    "    #Shift image\n",
    "    non = lambda s: s if s<0 else None\n",
    "    mom = lambda s: max(0,s)\n",
    "    ox = int(np.random.uniform(low = -0.35, high = 0.35) * len(x0))\n",
    "    oy = int(np.random.uniform(low = -0.35, high = 0.35) * len(y0))\n",
    "    \n",
    "    shift_intensity = np.zeros_like(intensity)\n",
    "    shift_intensity[mom(oy):non(oy), mom(ox):non(ox)] = intensity[mom(-oy):non(-oy), mom(-ox):non(-ox)]\n",
    "    intensity = shift_intensity\n",
    "    \n",
    "    #Add noise\n",
    "    intensity = intensity\\\n",
    "                +np.random.normal(loc = 0, scale = 0.2, size = (intensity.shape))\n",
    "\n",
    "    #Resize to (m x n pixels)\n",
    "    intensity = resize(intensity, size) #resize\n",
    "    \n",
    "    mode_info = [M, N]\n",
    "    \n",
    "    return intensity, mode_info\n"
   ]
  },
  {
   "cell_type": "markdown",
   "id": "48447543",
   "metadata": {},
   "source": [
    "## Generate arbitrary modes and save as .tif image (8 bit grayscale)"
   ]
  },
  {
   "cell_type": "markdown",
   "id": "79dfe023",
   "metadata": {},
   "source": [
    "### Generate train set (32x32 pixels)"
   ]
  },
  {
   "cell_type": "code",
   "execution_count": 419,
   "id": "9aa57b60",
   "metadata": {},
   "outputs": [
    {
     "name": "stderr",
     "output_type": "stream",
     "text": [
      "100%|█████████████████████████████████████| 10000/10000 [10:22<00:00, 16.06it/s]\n"
     ]
    }
   ],
   "source": [
    "for idx in tqdm(range(10**4)): #generated 10**4 for the train set and 10**3 for the test set\n",
    "#for idx in tqdm(range(1)):\n",
    "    #Generate image\n",
    "    i, mode_info = generate_arb_mode(size = (32, 32))\n",
    "    i = (((i - i.min()) / (i.max() - i.min())) * 255.9).astype(np.uint8) #to save like a 8bit gray scale image\n",
    "\n",
    "    #Save image\n",
    "    im = Image.fromarray(i)\n",
    "    \n",
    "    now = datetime.datetime.now()\n",
    "    timestamp = str(now.strftime(\"%Y%m%d_%H%M%S\"))\n",
    "    label = f\"{timestamp} M={mode_info[0]:.0f} N={mode_info[1]:.0f} i={idx}\"\n",
    "    img_path = \"/data_images/\"+label+\".tif\"\n",
    "    img_path = Path(os.getcwd())/\"data_images/32by32/train\"\n",
    "    #img_path = Path(os.getcwd())/\"data_images/16by16/test/\"\n",
    "    im.save(str(img_path/label)+\".tif\")\n",
    "\n",
    "    #Load image - for debugging\n",
    "    #reloaded = np.array(Image.open(label+'.tif')) #used tif, because it as no compression;\n"
   ]
  },
  {
   "cell_type": "markdown",
   "id": "a2a03423",
   "metadata": {},
   "source": [
    "### Generate test set (32x32 pixels)"
   ]
  },
  {
   "cell_type": "code",
   "execution_count": 420,
   "id": "35d689da",
   "metadata": {},
   "outputs": [
    {
     "name": "stderr",
     "output_type": "stream",
     "text": [
      "100%|███████████████████████████████████████| 1000/1000 [01:01<00:00, 16.21it/s]\n"
     ]
    }
   ],
   "source": [
    "for idx in tqdm(range(10**3)): #generated 10**4 for the train set and 10**3 for the test set\n",
    "    #Generate image\n",
    "    i, mode_info = generate_arb_mode(size = (32, 32))\n",
    "    i = (((i - i.min()) / (i.max() - i.min())) * 255.9).astype(np.uint8) #to save like a 8bit gray scale image\n",
    "\n",
    "    #Save image\n",
    "    im = Image.fromarray(i)\n",
    "    \n",
    "    now = datetime.datetime.now()\n",
    "    timestamp = str(now.strftime(\"%Y%m%d_%H%M%S\"))\n",
    "    label = f\"{timestamp} M={mode_info[0]:.0f} N={mode_info[1]:.0f} i={idx}\"\n",
    "    img_path = \"/data_images/\"+label+\".tif\"\n",
    "    #img_path = Path(os.getcwd())/\"data_images/16by16/train\"\n",
    "    img_path = Path(os.getcwd())/\"data_images/32by32/test/\"\n",
    "    im.save(str(img_path/label)+\".tif\")\n",
    "\n",
    "    #Load image - for debugging\n",
    "    #reloaded = np.array(Image.open(label+'.tif')) #used tif, because it as no compression;\n"
   ]
  },
  {
   "cell_type": "markdown",
   "id": "b4030f7d",
   "metadata": {},
   "source": [
    "## Visualise modes "
   ]
  },
  {
   "cell_type": "code",
   "execution_count": 413,
   "id": "ad2e24ce",
   "metadata": {},
   "outputs": [
    {
     "data": {
      "text/plain": [
       "Text(0.5, 1.0, 'mode = [1, 1]')"
      ]
     },
     "execution_count": 413,
     "metadata": {},
     "output_type": "execute_result"
    },
    {
     "data": {
      "image/png": "[encoded data removed]",
      "text/plain": [
       "<Figure size 432x288 with 1 Axes>"
      ]
     },
     "metadata": {
      "needs_background": "light"
     },
     "output_type": "display_data"
    }
   ],
   "source": [
    "i, mode_info = generate_arb_mode(size = (16, 16))\n",
    "i = (((i - i.min()) / (i.max() - i.min())) * 255.9).astype(np.uint8) #to save like a 8bit gray scale image\n",
    "plt.imshow(i, cmap = \"gray\")\n",
    "plt.title(f\"mode = {mode_info}\")"
   ]
  },
  {
   "cell_type": "code",
   "execution_count": null,
   "id": "879d336e",
   "metadata": {},
   "outputs": [],
   "source": []
  }
 ],
 "metadata": {
  "kernelspec": {
   "display_name": "Python 3 (ipykernel)",
   "language": "python",
   "name": "python3"
  },
  "language_info": {
   "codemirror_mode": {
    "name": "ipython",
    "version": 3
   },
   "file_extension": ".py",
   "mimetype": "text/x-python",
   "name": "python",
   "nbconvert_exporter": "python",
   "pygments_lexer": "ipython3",
   "version": "3.9.12"
  }
 },
 "nbformat": 4,
 "nbformat_minor": 5
}
