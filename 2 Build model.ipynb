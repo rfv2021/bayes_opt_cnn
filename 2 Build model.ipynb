{
 "cells": [
  {
   "cell_type": "markdown",
   "id": "6a374135",
   "metadata": {},
   "source": [
    "# 0. Import modules"
   ]
  },
  {
   "cell_type": "code",
   "execution_count": 34,
   "id": "e954b734",
   "metadata": {},
   "outputs": [],
   "source": [
    "import matplotlib.pyplot as plt\n",
    "import time \n",
    "import os\n",
    "from pathlib import Path\n",
    "import pandas as pd\n",
    "from PIL import Image\n",
    "from tqdm import tqdm\n",
    "import numpy as np\n",
    "import datetime\n",
    "\n",
    "import torch\n",
    "import torchvision\n",
    "import torchvision.transforms as transforms\n",
    "from torch.utils.data import Dataset, DataLoader\n",
    "from torchvision import datasets\n",
    "from torchvision.transforms import ToTensor\n",
    "from torchvision.io import read_image\n",
    "import torch.optim as optim\n",
    "import torch.nn as nn\n",
    "import torch.nn.functional as F\n",
    "\n",
    "from bayes_opt import BayesianOptimization\n",
    "from bayes_opt import UtilityFunction\n",
    "from sklearn.gaussian_process.kernels import RBF, WhiteKernel, ConstantKernel\n",
    "\n",
    "from IPython.display import Markdown, display\n",
    "\n"
   ]
  },
  {
   "cell_type": "code",
   "execution_count": 33,
   "id": "cba2c854",
   "metadata": {},
   "outputs": [
    {
     "data": {
      "text/markdown": [
       "# Model Card\n",
       "\n",
       "## Model Description\n",
       "This convolutional neural network model classifies pictures of the cross-section of laser-written waveguides, in terms of the supported electromagnetic modes.\n",
       "\n",
       "**Input:** 8-bit grayscale 32x32px images of the cross-section of waveguides;\n",
       "\n",
       "**Output:** for each picture the model outputs a label which identifies the ([Hermite Gauss](https://en.wikipedia.org/wiki/Gaussian_beam)) electromagnetic modes supported by waveguide. The labels are (in order of complexity):\n",
       "\n",
       "\t- M=0 N=0 --> label 0\n",
       "\t- M=0 N=1 --> label 1\n",
       "\t- M=0 N=2 --> label 2\n",
       "\t- M=1 N=0 --> label 3\n",
       "\t- M=1 N=1 --> label 4\n",
       "\t- M=1 N=2 --> label 5\n",
       "\t- M=2 N=0 --> label 6\n",
       "\t- M=2 N=1 --> label 7\n",
       "\t- M=2 N=2 --> label 8\n",
       "\n",
       "**Model Architecture:** Convolutional neural network with 2 convolutional layers and 3 fully connected layers. The model was fine tuned through bayesian optimisation to maximise the accuracy after 2 training epochs. The free parameters in the Bayesian optimisation were:\n",
       "\n",
       "- The width of the convolution filters 1 and 2;\n",
       "- The output depth of the convolution filter 1;\n",
       "- The output depth of the convolution filter 2 ;\n",
       "- Number of output features of fully connected layer 1;\n",
       "- Number of output features of fully connected layer 2;\n",
       "- The learning rate of the stochastic gradient descent optimiser;\n",
       "- The momentum of the stochastic gradient descent optimiser.\n",
       "\n",
       "\n",
       "## Performance\n",
       "- The model performance was measured in terms of classification accuracy (acc) on an independent test set, containing 2 000 images. Several CNN configurations produce satisfying results. Around 30 configurations have acc > 95\\%, after only 2 epochs of training. With 3 training epochs accuracies in excess of 99\\% are found.\n",
       "- For more details, see 3_Load Bayesian optimisation results.ipynb.\n",
       "\n",
       "## Limitations\n",
       "- The model was trained on waveguides conducting single modes and does not cover multi-modal operation, that is, it cannot classify waveguides which conduct several modes simultaneously.\n",
       "\n",
       "\n",
       "## Trade-offs\n",
       "- The model has not been evaluated with images from different cameras. This might deteriorate the performance and requires further study."
      ],
      "text/plain": [
       "<IPython.core.display.Markdown object>"
      ]
     },
     "metadata": {},
     "output_type": "display_data"
    }
   ],
   "source": [
    "display(Markdown(\"model_card.md\"))"
   ]
  },
  {
   "cell_type": "markdown",
   "id": "9eb08a81",
   "metadata": {},
   "source": [
    "# 1. Load data, which is split into train-val sets (2*10^4 and 2 * 10^3 samples)"
   ]
  },
  {
   "cell_type": "markdown",
   "id": "8287bafe",
   "metadata": {},
   "source": [
    "Define ImageDataset class according to Pytorch indications. This is then used by the native Dataloader class to build a generator, whose purpose is to load batches of images into the training algorithm."
   ]
  },
  {
   "cell_type": "code",
   "execution_count": 18,
   "id": "96882905",
   "metadata": {},
   "outputs": [],
   "source": [
    "class ImageDataset(Dataset):\n",
    "    def __init__(self, img_dir):\n",
    "        self.img_dir = img_dir\n",
    "        self.img_files = [item for item in os.listdir(img_dir) if \".tif\" in item]\n",
    "        print(f\"Initialised dataset with n={len(self.img_files)} elements.\")\n",
    "    \n",
    "    def __len__(self):\n",
    "        return len(self.img_files)\n",
    "    \n",
    "    def __getitem__(self, idx):\n",
    "        img_path = self.img_dir / self.img_files[idx]\n",
    "        \n",
    "        img = Image.open(img_path)\n",
    "        img = ToTensor()(img)\n",
    "        #img = read_image(str(img_path))\n",
    "        label_str = self.img_files[idx].split(\" \")[1]+\" \"+self.img_files[idx].split(\" \")[2]\n",
    "        label_dict = {'M=0 N=0': 0, 'M=0 N=1':1, 'M=0 N=2': 2, 'M=1 N=0': 3, 'M=1 N=1': 4,\n",
    "                     'M=1 N=2':5, 'M=2 N=0': 6, 'M=2 N=1': 7, 'M=2 N=2': 8}\n",
    "        label = label_dict[label_str]\n",
    "        \n",
    "        return img, label"
   ]
  },
  {
   "cell_type": "code",
   "execution_count": 19,
   "id": "de14cddf",
   "metadata": {},
   "outputs": [
    {
     "name": "stdout",
     "output_type": "stream",
     "text": [
      "Initialised dataset with n=10000 elements.\n",
      "Initialised dataset with n=2000 elements.\n"
     ]
    }
   ],
   "source": [
    "cwd = Path(os.getcwd())\n",
    "\n",
    "train_img_dir = cwd / \"dataset\" / \"32by32\" / \"train\"\n",
    "train_dataset = ImageDataset(train_img_dir)\n",
    "train_dataloader = DataLoader(train_dataset, batch_size = 10, shuffle = True)\n",
    "\n",
    "test_img_dir = cwd / \"dataset\" / \"32by32\" / \"test\"\n",
    "test_dataset = ImageDataset(test_img_dir)\n",
    "test_dataloader = DataLoader(test_dataset, batch_size = 10, shuffle = True)"
   ]
  },
  {
   "cell_type": "markdown",
   "id": "1e1cbec5",
   "metadata": {},
   "source": [
    "### Check some images "
   ]
  },
  {
   "cell_type": "markdown",
   "id": "28243421",
   "metadata": {},
   "source": [
    "Test the dataloader by plotting images returned by the generator and checking the respective labels"
   ]
  },
  {
   "cell_type": "code",
   "execution_count": 13,
   "id": "1ca6c072",
   "metadata": {
    "scrolled": true
   },
   "outputs": [
    {
     "data": {
      "image/png": "[encoded data removed]",
      "text/plain": [
       "<Figure size 432x288 with 1 Axes>"
      ]
     },
     "metadata": {
      "needs_background": "light"
     },
     "output_type": "display_data"
    },
    {
     "data": {
      "image/png": "[encoded data removed]",
      "text/plain": [
       "<Figure size 432x288 with 1 Axes>"
      ]
     },
     "metadata": {
      "needs_background": "light"
     },
     "output_type": "display_data"
    },
    {
     "data": {
      "image/png": "[encoded data removed]",
      "text/plain": [
       "<Figure size 432x288 with 1 Axes>"
      ]
     },
     "metadata": {
      "needs_background": "light"
     },
     "output_type": "display_data"
    },
    {
     "data": {
      "image/png": "[encoded data removed]",
      "text/plain": [
       "<Figure size 432x288 with 1 Axes>"
      ]
     },
     "metadata": {
      "needs_background": "light"
     },
     "output_type": "display_data"
    },
    {
     "data": {
      "image/png": "[encoded data removed]",
      "text/plain": [
       "<Figure size 432x288 with 1 Axes>"
      ]
     },
     "metadata": {
      "needs_background": "light"
     },
     "output_type": "display_data"
    }
   ],
   "source": [
    "# get some random training images\n",
    "dataiter = iter(train_dataloader)\n",
    "images, labels = next(dataiter)\n",
    "\n",
    "# show images\n",
    "for i in range(5):#(images.shape[0]):\n",
    "    plt.figure()\n",
    "    plt.title(labels[i])\n",
    "    plt.imshow(images[i][0])\n",
    "    plt.savefig(f\"sample_image_{i}.png\")"
   ]
  },
  {
   "cell_type": "code",
   "execution_count": 20,
   "id": "9889b42d",
   "metadata": {},
   "outputs": [],
   "source": [
    "train_features, train_labels = next(iter(train_dataloader))"
   ]
  },
  {
   "cell_type": "code",
   "execution_count": 21,
   "id": "62618f68",
   "metadata": {},
   "outputs": [
    {
     "data": {
      "text/plain": [
       "tensor([8, 6, 7, 1, 7, 5, 8, 3, 0, 8])"
      ]
     },
     "execution_count": 21,
     "metadata": {},
     "output_type": "execute_result"
    }
   ],
   "source": [
    "train_labels"
   ]
  },
  {
   "cell_type": "markdown",
   "id": "e32b2e98",
   "metadata": {},
   "source": [
    "# 2. Define a flexible convolutional neural network "
   ]
  },
  {
   "cell_type": "markdown",
   "id": "2a3fbc1b",
   "metadata": {},
   "source": [
    "The convolutional neural network (CNN) is defined in a flexible manner, such that some of its parameters and thereby its topology can be adjusted programatically. The free (hyper-) parameters are specified in the model card above."
   ]
  },
  {
   "cell_type": "code",
   "execution_count": 14,
   "id": "352bbc26",
   "metadata": {},
   "outputs": [],
   "source": [
    "class Net(nn.Module):\n",
    "    \"\"\"\n",
    "    Class for CNN model, based on Le-Net5, with free parameters for tuning by bayesian optimisation.\n",
    "    \n",
    "    Free hyperparameters:\n",
    "        \n",
    "    \"\"\"\n",
    "    \n",
    "    def __init__(self, name=None, input_format = (32,32), conv_f = 3, \n",
    "                 conv1_out_depth = 120, conv2_out_depth=84, fc1_out= 10, fc2_out=16,\n",
    "                lr = 0.01, momentum = 0.9):\n",
    "        \n",
    "        super(Net, self).__init__()\n",
    "        self.name = name\n",
    "        self.conv_f = conv_f\n",
    "        self.conv1_out_depth = conv1_out_depth\n",
    "        self.conv2_out_depth = conv2_out_depth\n",
    "        self.fc1_out = fc1_out\n",
    "        self.fc2_out = fc2_out\n",
    "        \n",
    "        self.lr = lr\n",
    "        self.momentum = momentum\n",
    "        \n",
    "        self.conv1 = nn.Conv2d(1, conv1_out_depth, self.conv_f)  #input depth, output depth and filter size (changed f = 5 to f = 3)\n",
    "        self.conv2 = nn.Conv2d(conv1_out_depth, conv2_out_depth, self.conv_f)  #input depth, output and filter size; o = ((w-f)/s+1)\n",
    "        self.pool = nn.MaxPool2d(2, 2)  #f and s\n",
    "        \n",
    "        #To determine size of FC input layer\n",
    "        probe = self.pool(self.conv1(torch.zeros((1, *input_format))))\n",
    "        probe = self.pool(self.conv2(probe))\n",
    "        fc1_in = probe.shape[0]*probe.shape[1]*probe.shape[2] #0 is depth, 1 and 2 the representation dimensions\n",
    "        self.fc1_in = fc1_in\n",
    "        \n",
    "        self.fc1 = nn.Linear(self.fc1_in, self.fc1_out)\n",
    "        self.fc2 = nn.Linear(self.fc1_out, self.fc2_out)\n",
    "        self.fc3 = nn.Linear(fc2_out, 9)\n",
    "        \n",
    "        # compute the total number of parameters\n",
    "        total_params = sum(p.numel() for p in self.parameters() if p.requires_grad)\n",
    "        print(self.name + ': total params:', total_params)\n",
    "\n",
    "        \n",
    "    def forward(self, x, show_shape = False):\n",
    "        x = self.pool(F.relu(self.conv1(x)))\n",
    "        if show_shape: print(x.shape)\n",
    "            \n",
    "        x = self.pool(F.relu(self.conv2(x)))\n",
    "        if show_shape: print(x.shape)\n",
    "            \n",
    "        x = x.view(-1, self.fc1_in)\n",
    "        if show_shape: print(x.shape)\n",
    "            \n",
    "        x = F.relu(self.fc1(x))\n",
    "        if show_shape: print(x.shape)\n",
    "            \n",
    "        x = F.relu(self.fc2(x))\n",
    "        if show_shape: print(x.shape)\n",
    "            \n",
    "        x = self.fc3(x)\n",
    "        if show_shape: print(x.shape)\n",
    "            \n",
    "        return x"
   ]
  },
  {
   "cell_type": "markdown",
   "id": "e139e8b3",
   "metadata": {},
   "source": [
    "# 3. Helper functions - train and test"
   ]
  },
  {
   "cell_type": "code",
   "execution_count": 15,
   "id": "fa102622",
   "metadata": {},
   "outputs": [],
   "source": [
    "def train(net, train_dataloader, test_dataloader, no_epochs):\n",
    "\n",
    "    start = time.time()\n",
    "    #Define loss function and optimizer\n",
    "    criterion = nn.CrossEntropyLoss()\n",
    "    optimizer = optim.SGD(net.parameters(), lr=net.lr, momentum=net.momentum) #momentum to avoid zig zaging \n",
    "\n",
    "    for epoch in tqdm(range(no_epochs)):  # loop over the dataset multiple times\n",
    "\n",
    "        running_loss = 0.0\n",
    "        for i, data in enumerate(train_dataloader, 0): #go over the different batches\n",
    "            # get the inputs; data is a list of [inputs, labels]\n",
    "            inputs, labels = data\n",
    "\n",
    "            # zero the parameter gradients\n",
    "            optimizer.zero_grad()\n",
    "\n",
    "            # forward + backward + optimize\n",
    "            outputs = net(inputs)\n",
    "            loss = criterion(outputs, labels)\n",
    "            loss.backward()\n",
    "            optimizer.step()\n",
    "\n",
    "            # print statistics\n",
    "            running_loss += loss.item()\n",
    "            if i % 100 == 0:    # print every 2000 mini-batches\n",
    "                acc = test(net, test_dataloader)\n",
    "                print('[%d, %5d] loss: %.3f acc: %.3f' %\n",
    "                      (epoch + 1, i + 1, running_loss / 2000, acc))\n",
    "                running_loss = 0.0\n",
    "\n",
    "    print('Finished Training')\n",
    "    end = time.time()\n",
    "    print('training time ', end-start)\n",
    "    \n",
    "    return net\n",
    "\n",
    "\n",
    "\n",
    "def test(net, test_dataloader):\n",
    "    \"\"\"\n",
    "    Return accuracy of classification by neural network\n",
    "    \"\"\"\n",
    "    correct = 0\n",
    "    total = 0\n",
    "    with torch.no_grad():\n",
    "        for data in test_dataloader:\n",
    "            images, labels = data\n",
    "            outputs = net(images)\n",
    "            _, predicted = torch.max(outputs.data, 1)\n",
    "            total += labels.size(0)\n",
    "            correct += (predicted == labels).sum().item()\n",
    "    accuracy = (100 * correct / total)\n",
    "    return accuracy\n"
   ]
  },
  {
   "cell_type": "markdown",
   "id": "3ebbbd1e",
   "metadata": {},
   "source": [
    "### Test helper functions - train and test"
   ]
  },
  {
   "cell_type": "code",
   "execution_count": 16,
   "id": "c90593eb",
   "metadata": {},
   "outputs": [
    {
     "name": "stderr",
     "output_type": "stream",
     "text": [
      "[W NNPACK.cpp:53] Could not initialize NNPACK! Reason: Unsupported hardware.\n"
     ]
    },
    {
     "name": "stdout",
     "output_type": "stream",
     "text": [
      "LetNet5: total params: 81725\n"
     ]
    },
    {
     "name": "stderr",
     "output_type": "stream",
     "text": [
      "\r",
      "  0%|                                                     | 0/2 [00:00<?, ?it/s]"
     ]
    },
    {
     "name": "stdout",
     "output_type": "stream",
     "text": [
      "[1,     1] loss: 0.001 acc: 10.600\n",
      "[1,   101] loss: 0.110 acc: 10.550\n",
      "[1,   201] loss: 0.110 acc: 13.400\n",
      "[1,   301] loss: 0.110 acc: 11.500\n",
      "[1,   401] loss: 0.110 acc: 11.650\n",
      "[1,   501] loss: 0.110 acc: 11.500\n",
      "[1,   601] loss: 0.110 acc: 13.100\n",
      "[1,   701] loss: 0.109 acc: 15.150\n",
      "[1,   801] loss: 0.106 acc: 17.800\n",
      "[1,   901] loss: 0.099 acc: 30.300\n"
     ]
    },
    {
     "name": "stderr",
     "output_type": "stream",
     "text": [
      "\r",
      " 50%|██████████████████████▌                      | 1/2 [00:32<00:32, 32.06s/it]"
     ]
    },
    {
     "name": "stdout",
     "output_type": "stream",
     "text": [
      "[2,     1] loss: 0.001 acc: 20.900\n",
      "[2,   101] loss: 0.074 acc: 31.300\n",
      "[2,   201] loss: 0.068 acc: 47.500\n",
      "[2,   301] loss: 0.061 acc: 40.400\n",
      "[2,   401] loss: 0.051 acc: 54.200\n",
      "[2,   501] loss: 0.045 acc: 63.600\n",
      "[2,   601] loss: 0.044 acc: 43.800\n",
      "[2,   701] loss: 0.044 acc: 58.950\n",
      "[2,   801] loss: 0.040 acc: 67.150\n",
      "[2,   901] loss: 0.036 acc: 77.350\n"
     ]
    },
    {
     "name": "stderr",
     "output_type": "stream",
     "text": [
      "100%|█████████████████████████████████████████████| 2/2 [01:07<00:00, 33.97s/it]\n"
     ]
    },
    {
     "name": "stdout",
     "output_type": "stream",
     "text": [
      "Finished Training\n",
      "training time  67.97761082649231\n",
      "72.45\n"
     ]
    }
   ],
   "source": [
    "net = Net(name='LetNet5', input_format = (32,32), conv_f = 3, \n",
    "                 conv1_out_depth = 10, conv2_out_depth=16, fc1_out= 120, fc2_out=84,\n",
    "                 lr = 0.01, momentum = 0.9)\n",
    "\n",
    "net = train(net, train_dataloader, test_dataloader, no_epochs = 2)\n",
    "acc = test(net, test_dataloader)\n",
    "print(acc)"
   ]
  },
  {
   "cell_type": "markdown",
   "id": "457256cc",
   "metadata": {},
   "source": [
    "# 4. Bayesian Optimisation of Hyperparameters"
   ]
  },
  {
   "cell_type": "markdown",
   "id": "83b86d19",
   "metadata": {},
   "source": [
    "Define helper functions to build the objective function of the optimisation.\n"
   ]
  },
  {
   "cell_type": "markdown",
   "id": "0f55fad0",
   "metadata": {},
   "source": [
    "Parameters to optimise:\n",
    "\n",
    "* Conv filter width - conv_f\n",
    "* Output depth of Convolution layer 1 - conv1_out_depth\n",
    "* Output depth of Convolution layer 2 - conv2_out_depth\n",
    "* Dimension of output of FC1 - fc1_out\n",
    "* Dimension of output of FC2 - fc2_out\n",
    "* Learning rate - lr\n",
    "* Momentum - p"
   ]
  },
  {
   "cell_type": "code",
   "execution_count": 37,
   "id": "a9e7cbac",
   "metadata": {},
   "outputs": [],
   "source": [
    "hparam_ranges = {'conv_f':  ( 1, 9), #convolution layer filter width \n",
    "                 'conv1_out_depth': (1,  20), # depth of conv1 output\n",
    "                 'conv2_out_depth': (1, 20), # depth of conv2 output\n",
    "                 'fc1_out':  (1, 200), # dimension of FC1 output\n",
    "                 'fc2_out':   (1, 200), #dimension of FC2 output\n",
    "                 'lr': (-4,-1), #learning rate\n",
    "                 'momentum': (-4,-1)} #momentum "
   ]
  },
  {
   "cell_type": "code",
   "execution_count": 38,
   "id": "274538a1",
   "metadata": {},
   "outputs": [],
   "source": [
    "def random_hparam(hparam_ranges):\n",
    "    \"\"\"\n",
    "    Extracts random sample from provided hyperparameter range;\n",
    "    \"\"\"\n",
    "    r = hparam_ranges\n",
    "    sample = np.array([np.random.choice(np.arange(r[\"conv_f\"][0], r[\"conv_f\"][1])), #conv_f\n",
    "                      np.random.choice(np.arange(r[\"conv1_out_depth\"][0], r[\"conv2_out_depth\"][1])), #conv1_out_depth\n",
    "                      np.random.choice(np.arange(r[\"conv2_out_depth\"][0], r[\"conv2_out_depth\"][1])), #conv2_out_depth\n",
    "                      np.random.choice(np.arange(r[\"fc1_out\"][0], r[\"fc1_out\"][1])), #fc1_out\n",
    "                      np.random.choice(np.arange(r[\"fc2_out\"][0], r[\"fc2_out\"][1])), #fc2_out\n",
    "                      10**np.random.uniform(r[\"lr\"][0], r[\"lr\"][1]), #learning rate\n",
    "                      10**np.random.uniform(r[\"momentum\"][0], r[\"momentum\"][1])]) #momentum\n",
    "    \n",
    "    hparam_values = {\"conv_f\": sample[0],\n",
    "                \"conv1_out_depth\": sample[1],\n",
    "                \"conv2_out_depth\": sample[2],\n",
    "                \"fc1_out\": sample[3],\n",
    "                \"fc2_out\": sample[4],\n",
    "                \"lr\": sample[5],\n",
    "                \"momentum\": sample[6]}\n",
    "    \n",
    "    return hparam_values"
   ]
  },
  {
   "cell_type": "code",
   "execution_count": 39,
   "id": "154e772c",
   "metadata": {},
   "outputs": [
    {
     "data": {
      "text/plain": [
       "{'conv_f': 6.0,\n",
       " 'conv1_out_depth': 17.0,\n",
       " 'conv2_out_depth': 10.0,\n",
       " 'fc1_out': 105.0,\n",
       " 'fc2_out': 97.0,\n",
       " 'lr': 0.025975496285728074,\n",
       " 'momentum': 0.0005745633426880878}"
      ]
     },
     "execution_count": 39,
     "metadata": {},
     "output_type": "execute_result"
    }
   ],
   "source": [
    "random_hparam(hparam_ranges)"
   ]
  },
  {
   "cell_type": "markdown",
   "id": "806c96c3",
   "metadata": {},
   "source": [
    "### Objective function"
   ]
  },
  {
   "cell_type": "code",
   "execution_count": 40,
   "id": "caa2986c",
   "metadata": {},
   "outputs": [],
   "source": [
    "def objective(hparam_values, no_epochs = 1):\n",
    "#    hparams = \n",
    "    \"\"\"\n",
    "    hparams = [3, #conv_f\n",
    "           2, #conv1_out_depth\n",
    "           3, #conv2_out_depth\n",
    "           4, #fc1_out\n",
    "           5, #fc2_out\n",
    "           6, #lr\n",
    "           7] #momentum\n",
    "    \"\"\"\n",
    "    \n",
    "    conv_f = round(hparam_values[\"conv_f\"])\n",
    "    conv1_out_depth = round(hparam_values[\"conv1_out_depth\"])\n",
    "    conv2_out_depth = round(hparam_values[\"conv2_out_depth\"])\n",
    "    fc1_out = round(hparam_values[\"fc1_out\"])\n",
    "    fc2_out = round(hparam_values[\"fc2_out\"])\n",
    "    lr = 10**hparam_values[\"lr\"]\n",
    "    momentum = 10**hparam_values[\"momentum\"]\n",
    "    \n",
    "\n",
    "    net = Net(name='LetNet5', input_format = (32,32), conv_f = conv_f, \n",
    "                     conv1_out_depth = conv1_out_depth, conv2_out_depth = conv2_out_depth,\n",
    "                     fc1_out= fc1_out, fc2_out=fc2_out,\n",
    "                     lr = lr, momentum = momentum)\n",
    "    \n",
    "    net = train(net, train_dataloader, test_dataloader, no_epochs = no_epochs)\n",
    "    acc = test(net, test_dataloader)\n",
    "    \n",
    "    \n",
    "    return acc"
   ]
  },
  {
   "cell_type": "markdown",
   "id": "ff787a77",
   "metadata": {},
   "source": [
    "### Test objective function "
   ]
  },
  {
   "cell_type": "code",
   "execution_count": 41,
   "id": "7f60d4c4",
   "metadata": {
    "scrolled": true
   },
   "outputs": [
    {
     "name": "stdout",
     "output_type": "stream",
     "text": [
      "{'conv_f': 3, 'conv1_out_depth': 10, 'conv2_out_depth': 16, 'fc1_out': 120, 'fc2_out': 84, 'lr': -2, 'momentum': -0.05}\n",
      "LetNet5: total params: 81725\n"
     ]
    },
    {
     "name": "stderr",
     "output_type": "stream",
     "text": [
      "\r",
      "  0%|                                                     | 0/1 [00:00<?, ?it/s]"
     ]
    },
    {
     "name": "stdout",
     "output_type": "stream",
     "text": [
      "[1,     1] loss: 0.001 acc: 10.700\n",
      "[1,   101] loss: 0.110 acc: 10.000\n",
      "[1,   201] loss: 0.110 acc: 12.300\n",
      "[1,   301] loss: 0.110 acc: 13.100\n",
      "[1,   401] loss: 0.110 acc: 11.700\n",
      "[1,   501] loss: 0.109 acc: 14.050\n",
      "[1,   601] loss: 0.108 acc: 17.050\n",
      "[1,   701] loss: 0.100 acc: 22.300\n",
      "[1,   801] loss: 0.089 acc: 25.800\n",
      "[1,   901] loss: 0.075 acc: 44.100\n"
     ]
    },
    {
     "name": "stderr",
     "output_type": "stream",
     "text": [
      "100%|█████████████████████████████████████████████| 1/1 [00:23<00:00, 23.78s/it]\n"
     ]
    },
    {
     "name": "stdout",
     "output_type": "stream",
     "text": [
      "Finished Training\n",
      "training time  23.784008979797363\n"
     ]
    }
   ],
   "source": [
    "hparam_values = {\"conv_f\": 3,\n",
    "                \"conv1_out_depth\": 10,\n",
    "                \"conv2_out_depth\": 16,\n",
    "                \"fc1_out\": 120,\n",
    "                \"fc2_out\": 84,\n",
    "                \"lr\": -2,\n",
    "                \"momentum\": -0.05}\n",
    "\n",
    "#hparam_values = random_hparam(hparam_ranges)\n",
    "print(hparam_values)\n",
    "acc = objective(hparam_values, no_epochs = 5)"
   ]
  },
  {
   "cell_type": "markdown",
   "id": "54573bf9",
   "metadata": {},
   "source": [
    "### Helper function - load previous optimisation results"
   ]
  },
  {
   "cell_type": "code",
   "execution_count": 42,
   "id": "889ad9f1",
   "metadata": {},
   "outputs": [],
   "source": [
    "def load_previous_opt_results(query_arr, observation_arr):\n",
    "    \"\"\"\n",
    "    Helper function that loads results from last optimisations, such that the optimisation\n",
    "    does not have to be run from the start everytime.\n",
    "    \"\"\"\n",
    "    stored_results = [item for item in os.listdir(\"./optimisation_results/\")]\n",
    "    time_stamps = [float(\"\".join(item.split(\"_\")[:2])) for item in stored_results] \n",
    "    last_result = stored_results[np.argmax(time_stamps)]\n",
    "    df = pd.read_pickle(\"./optimisation_results/\"+last_result)\n",
    "\n",
    "    for index, row in df.iterrows():\n",
    "        query_i_dict = row.drop(\"acc\").to_dict()\n",
    "        query_i_arr = list(query_i_dict.values())\n",
    "        observation_i = df.loc[index, \"acc\"]\n",
    "        \n",
    "        optimizer.register(params = query_i_dict, target = observation_i)\n",
    "        \n",
    "        query_arr.append(query_i_arr)\n",
    "        observation_arr.append(observation_i)\n",
    "    \n",
    "    return query_arr, observation_arr"
   ]
  },
  {
   "cell_type": "markdown",
   "id": "d01c70d6",
   "metadata": {},
   "source": [
    "# Optimisation routine"
   ]
  },
  {
   "cell_type": "markdown",
   "id": "d84260be",
   "metadata": {},
   "source": [
    "This routine is the core of this project. The Bayesian optimisation runs on the objective function. At each iteration, a new query is proposed by maximising the expected improvement of the acquisition function. The new parameter set is used to train the neural network and its accuracy is then returned by the objective function."
   ]
  },
  {
   "cell_type": "code",
   "execution_count": 44,
   "id": "f7372043",
   "metadata": {
    "scrolled": true
   },
   "outputs": [
    {
     "name": "stdout",
     "output_type": "stream",
     "text": [
      "\n",
      "\n",
      "Iteration:  0 \t hparams={'conv1_out_depth': 17.438518960196877, 'conv2_out_depth': 12.669233746781725, 'conv_f': 8.164633151312934, 'fc1_out': 190.0352051830306, 'fc2_out': 159.64281648726353, 'lr': -2.1598000288634354, 'momentum': -1.921797863177531}\n",
      "LetNet5: total params: 57341\n"
     ]
    },
    {
     "name": "stderr",
     "output_type": "stream",
     "text": [
      "\r",
      "  0%|                                                     | 0/5 [00:00<?, ?it/s]"
     ]
    },
    {
     "name": "stdout",
     "output_type": "stream",
     "text": [
      "[1,     1] loss: 0.001 acc: 11.200\n",
      "[1,   101] loss: 0.110 acc: 10.600\n",
      "[1,   201] loss: 0.110 acc: 10.400\n",
      "[1,   301] loss: 0.110 acc: 9.950\n",
      "[1,   401] loss: 0.110 acc: 10.500\n",
      "[1,   501] loss: 0.110 acc: 10.050\n",
      "[1,   601] loss: 0.110 acc: 10.250\n",
      "[1,   701] loss: 0.110 acc: 11.050\n",
      "[1,   801] loss: 0.110 acc: 10.900\n",
      "[1,   901] loss: 0.110 acc: 11.650\n"
     ]
    },
    {
     "name": "stderr",
     "output_type": "stream",
     "text": [
      "\r",
      " 20%|█████████                                    | 1/5 [00:26<01:46, 26.57s/it]"
     ]
    },
    {
     "name": "stdout",
     "output_type": "stream",
     "text": [
      "[2,     1] loss: 0.001 acc: 11.900\n",
      "[2,   101] loss: 0.110 acc: 10.400\n",
      "[2,   201] loss: 0.110 acc: 10.000\n",
      "[2,   301] loss: 0.110 acc: 10.000\n",
      "[2,   401] loss: 0.110 acc: 10.000\n",
      "[2,   501] loss: 0.110 acc: 10.000\n",
      "[2,   601] loss: 0.110 acc: 10.000\n",
      "[2,   701] loss: 0.110 acc: 10.000\n",
      "[2,   801] loss: 0.110 acc: 11.500\n",
      "[2,   901] loss: 0.110 acc: 11.500\n"
     ]
    },
    {
     "name": "stderr",
     "output_type": "stream",
     "text": [
      "\r",
      " 40%|██████████████████                           | 2/5 [00:52<01:18, 26.33s/it]"
     ]
    },
    {
     "name": "stdout",
     "output_type": "stream",
     "text": [
      "[3,     1] loss: 0.001 acc: 11.500\n",
      "[3,   101] loss: 0.110 acc: 11.500\n",
      "[3,   201] loss: 0.110 acc: 11.500\n",
      "[3,   301] loss: 0.110 acc: 11.550\n",
      "[3,   401] loss: 0.110 acc: 11.850\n",
      "[3,   501] loss: 0.110 acc: 11.500\n",
      "[3,   601] loss: 0.110 acc: 11.500\n",
      "[3,   701] loss: 0.110 acc: 11.500\n",
      "[3,   801] loss: 0.110 acc: 11.650\n",
      "[3,   901] loss: 0.110 acc: 12.000\n"
     ]
    },
    {
     "name": "stderr",
     "output_type": "stream",
     "text": [
      "\r",
      " 60%|███████████████████████████                  | 3/5 [01:17<00:51, 25.84s/it]"
     ]
    },
    {
     "name": "stdout",
     "output_type": "stream",
     "text": [
      "[4,     1] loss: 0.001 acc: 10.200\n",
      "[4,   101] loss: 0.109 acc: 11.750\n",
      "[4,   201] loss: 0.110 acc: 10.400\n",
      "[4,   301] loss: 0.110 acc: 10.700\n",
      "[4,   401] loss: 0.110 acc: 10.550\n",
      "[4,   501] loss: 0.109 acc: 10.150\n",
      "[4,   601] loss: 0.109 acc: 10.650\n",
      "[4,   701] loss: 0.109 acc: 11.200\n",
      "[4,   801] loss: 0.109 acc: 13.300\n",
      "[4,   901] loss: 0.109 acc: 11.200\n"
     ]
    },
    {
     "name": "stderr",
     "output_type": "stream",
     "text": [
      "\r",
      " 80%|████████████████████████████████████         | 4/5 [01:44<00:25, 25.92s/it]"
     ]
    },
    {
     "name": "stdout",
     "output_type": "stream",
     "text": [
      "[5,     1] loss: 0.001 acc: 13.200\n",
      "[5,   101] loss: 0.109 acc: 13.450\n",
      "[5,   201] loss: 0.109 acc: 13.200\n",
      "[5,   301] loss: 0.108 acc: 14.500\n",
      "[5,   401] loss: 0.108 acc: 13.800\n",
      "[5,   501] loss: 0.108 acc: 13.200\n",
      "[5,   601] loss: 0.108 acc: 13.550\n",
      "[5,   701] loss: 0.108 acc: 14.700\n",
      "[5,   801] loss: 0.107 acc: 14.150\n",
      "[5,   901] loss: 0.106 acc: 13.500\n"
     ]
    },
    {
     "name": "stderr",
     "output_type": "stream",
     "text": [
      "100%|█████████████████████████████████████████████| 5/5 [02:10<00:00, 26.00s/it]\n"
     ]
    },
    {
     "name": "stdout",
     "output_type": "stream",
     "text": [
      "Finished Training\n",
      "training time  130.01161193847656\n",
      "Iteration:  0 \t Observation:  14.000000\n",
      "\n",
      "\n",
      "Iteration:  1 \t hparams={'conv1_out_depth': 16.813380138944606, 'conv2_out_depth': 19.9037349108779, 'conv_f': 2.4792913331943467, 'fc1_out': 199.63490348254092, 'fc2_out': 123.93960259132358, 'lr': -1.2214263114617894, 'momentum': -1.1954296939239168}\n",
      "LetNet5: total params: 223714\n"
     ]
    },
    {
     "name": "stderr",
     "output_type": "stream",
     "text": [
      "\r",
      "  0%|                                                     | 0/5 [00:00<?, ?it/s]"
     ]
    },
    {
     "name": "stdout",
     "output_type": "stream",
     "text": [
      "[1,     1] loss: 0.001 acc: 11.500\n",
      "[1,   101] loss: 0.110 acc: 10.550\n",
      "[1,   201] loss: 0.110 acc: 11.450\n",
      "[1,   301] loss: 0.110 acc: 11.500\n",
      "[1,   401] loss: 0.110 acc: 11.500\n",
      "[1,   501] loss: 0.110 acc: 10.550\n",
      "[1,   601] loss: 0.110 acc: 10.550\n",
      "[1,   701] loss: 0.110 acc: 10.600\n",
      "[1,   801] loss: 0.110 acc: 10.000\n",
      "[1,   901] loss: 0.110 acc: 11.500\n"
     ]
    },
    {
     "name": "stderr",
     "output_type": "stream",
     "text": [
      "\r",
      " 20%|█████████                                    | 1/5 [00:26<01:44, 26.06s/it]"
     ]
    },
    {
     "name": "stdout",
     "output_type": "stream",
     "text": [
      "[2,     1] loss: 0.001 acc: 11.500\n",
      "[2,   101] loss: 0.110 acc: 11.250\n",
      "[2,   201] loss: 0.110 acc: 10.000\n",
      "[2,   301] loss: 0.110 acc: 14.350\n",
      "[2,   401] loss: 0.110 acc: 15.700\n",
      "[2,   501] loss: 0.109 acc: 16.150\n",
      "[2,   601] loss: 0.107 acc: 15.050\n",
      "[2,   701] loss: 0.103 acc: 22.550\n",
      "[2,   801] loss: 0.102 acc: 14.800\n",
      "[2,   901] loss: 0.098 acc: 20.100\n"
     ]
    },
    {
     "name": "stderr",
     "output_type": "stream",
     "text": [
      "\r",
      " 40%|██████████████████                           | 2/5 [00:51<01:16, 25.66s/it]"
     ]
    },
    {
     "name": "stdout",
     "output_type": "stream",
     "text": [
      "[3,     1] loss: 0.001 acc: 30.900\n",
      "[3,   101] loss: 0.081 acc: 41.900\n",
      "[3,   201] loss: 0.073 acc: 57.750\n",
      "[3,   301] loss: 0.056 acc: 68.000\n",
      "[3,   401] loss: 0.043 acc: 64.450\n",
      "[3,   501] loss: 0.037 acc: 74.800\n",
      "[3,   601] loss: 0.034 acc: 77.050\n",
      "[3,   701] loss: 0.029 acc: 84.650\n",
      "[3,   801] loss: 0.024 acc: 83.550\n",
      "[3,   901] loss: 0.017 acc: 87.100\n"
     ]
    },
    {
     "name": "stderr",
     "output_type": "stream",
     "text": [
      "\r",
      " 60%|███████████████████████████                  | 3/5 [01:17<00:51, 25.67s/it]"
     ]
    },
    {
     "name": "stdout",
     "output_type": "stream",
     "text": [
      "[4,     1] loss: 0.000 acc: 84.650\n",
      "[4,   101] loss: 0.017 acc: 84.750\n",
      "[4,   201] loss: 0.014 acc: 89.800\n",
      "[4,   301] loss: 0.016 acc: 73.700\n",
      "[4,   401] loss: 0.012 acc: 86.500\n",
      "[4,   501] loss: 0.014 acc: 96.500\n",
      "[4,   601] loss: 0.007 acc: 96.700\n",
      "[4,   701] loss: 0.006 acc: 95.600\n",
      "[4,   801] loss: 0.007 acc: 93.200\n",
      "[4,   901] loss: 0.013 acc: 95.250\n"
     ]
    },
    {
     "name": "stderr",
     "output_type": "stream",
     "text": [
      "\r",
      " 80%|████████████████████████████████████         | 4/5 [01:41<00:25, 25.28s/it]"
     ]
    },
    {
     "name": "stdout",
     "output_type": "stream",
     "text": [
      "[5,     1] loss: 0.000 acc: 94.750\n",
      "[5,   101] loss: 0.008 acc: 97.550\n",
      "[5,   201] loss: 0.006 acc: 85.900\n",
      "[5,   301] loss: 0.004 acc: 98.900\n",
      "[5,   401] loss: 0.003 acc: 99.100\n",
      "[5,   501] loss: 0.001 acc: 96.800\n",
      "[5,   601] loss: 0.008 acc: 98.800\n",
      "[5,   701] loss: 0.002 acc: 99.050\n",
      "[5,   801] loss: 0.001 acc: 99.500\n",
      "[5,   901] loss: 0.001 acc: 98.950\n"
     ]
    },
    {
     "name": "stderr",
     "output_type": "stream",
     "text": [
      "100%|█████████████████████████████████████████████| 5/5 [02:06<00:00, 25.38s/it]\n"
     ]
    },
    {
     "name": "stdout",
     "output_type": "stream",
     "text": [
      "Finished Training\n",
      "training time  126.88625693321228\n",
      "Iteration:  1 \t Observation:  98.900000\n",
      "\n",
      "\n",
      "Iteration:  2 \t hparams={'conv1_out_depth': 15.22523460469589, 'conv2_out_depth': 11.089936256489896, 'conv_f': 4.659741889520013, 'fc1_out': 155.30617586471016, 'fc2_out': 77.52122696058734, 'lr': -1.5491381792848613, 'momentum': -2.9446492127953414}\n",
      "LetNet5: total params: 60185\n"
     ]
    },
    {
     "name": "stderr",
     "output_type": "stream",
     "text": [
      "\r",
      "  0%|                                                     | 0/5 [00:00<?, ?it/s]"
     ]
    },
    {
     "name": "stdout",
     "output_type": "stream",
     "text": [
      "[1,     1] loss: 0.001 acc: 10.700\n",
      "[1,   101] loss: 0.110 acc: 11.250\n",
      "[1,   201] loss: 0.110 acc: 11.500\n",
      "[1,   301] loss: 0.110 acc: 13.200\n",
      "[1,   401] loss: 0.110 acc: 11.300\n",
      "[1,   501] loss: 0.110 acc: 10.350\n",
      "[1,   601] loss: 0.110 acc: 10.000\n",
      "[1,   701] loss: 0.110 acc: 11.200\n",
      "[1,   801] loss: 0.110 acc: 12.400\n",
      "[1,   901] loss: 0.109 acc: 13.850\n"
     ]
    },
    {
     "name": "stderr",
     "output_type": "stream",
     "text": [
      "\r",
      " 20%|█████████                                    | 1/5 [00:28<01:53, 28.40s/it]"
     ]
    },
    {
     "name": "stdout",
     "output_type": "stream",
     "text": [
      "[2,     1] loss: 0.001 acc: 12.650\n",
      "[2,   101] loss: 0.109 acc: 13.550\n",
      "[2,   201] loss: 0.107 acc: 15.800\n",
      "[2,   301] loss: 0.105 acc: 21.050\n",
      "[2,   401] loss: 0.100 acc: 20.400\n",
      "[2,   501] loss: 0.094 acc: 31.450\n",
      "[2,   601] loss: 0.088 acc: 34.650\n",
      "[2,   701] loss: 0.084 acc: 39.950\n",
      "[2,   801] loss: 0.080 acc: 42.800\n",
      "[2,   901] loss: 0.077 acc: 43.800\n"
     ]
    },
    {
     "name": "stderr",
     "output_type": "stream",
     "text": [
      "\r",
      " 40%|██████████████████                           | 2/5 [00:55<01:23, 27.79s/it]"
     ]
    },
    {
     "name": "stdout",
     "output_type": "stream",
     "text": [
      "[3,     1] loss: 0.001 acc: 47.100\n",
      "[3,   101] loss: 0.073 acc: 34.700\n",
      "[3,   201] loss: 0.069 acc: 54.400\n",
      "[3,   301] loss: 0.069 acc: 22.950\n",
      "[3,   401] loss: 0.065 acc: 44.250\n",
      "[3,   501] loss: 0.066 acc: 44.750\n",
      "[3,   601] loss: 0.063 acc: 57.150\n",
      "[3,   701] loss: 0.059 acc: 54.950\n",
      "[3,   801] loss: 0.056 acc: 36.800\n",
      "[3,   901] loss: 0.055 acc: 50.750\n"
     ]
    },
    {
     "name": "stderr",
     "output_type": "stream",
     "text": [
      "\r",
      " 60%|███████████████████████████                  | 3/5 [01:21<00:53, 26.99s/it]"
     ]
    },
    {
     "name": "stdout",
     "output_type": "stream",
     "text": [
      "[4,     1] loss: 0.001 acc: 26.450\n",
      "[4,   101] loss: 0.045 acc: 49.500\n",
      "[4,   201] loss: 0.036 acc: 79.300\n",
      "[4,   301] loss: 0.032 acc: 78.300\n",
      "[4,   401] loss: 0.024 acc: 90.700\n",
      "[4,   501] loss: 0.022 acc: 96.100\n",
      "[4,   601] loss: 0.008 acc: 98.100\n",
      "[4,   701] loss: 0.018 acc: 95.650\n",
      "[4,   801] loss: 0.018 acc: 97.600\n",
      "[4,   901] loss: 0.017 acc: 96.700\n"
     ]
    },
    {
     "name": "stderr",
     "output_type": "stream",
     "text": [
      "\r",
      " 80%|████████████████████████████████████         | 4/5 [01:47<00:26, 26.55s/it]"
     ]
    },
    {
     "name": "stdout",
     "output_type": "stream",
     "text": [
      "[5,     1] loss: 0.000 acc: 96.450\n",
      "[5,   101] loss: 0.004 acc: 98.150\n",
      "[5,   201] loss: 0.012 acc: 95.050\n",
      "[5,   301] loss: 0.003 acc: 97.800\n",
      "[5,   401] loss: 0.004 acc: 96.350\n",
      "[5,   501] loss: 0.004 acc: 98.950\n",
      "[5,   601] loss: 0.003 acc: 99.100\n",
      "[5,   701] loss: 0.002 acc: 93.700\n",
      "[5,   801] loss: 0.018 acc: 99.000\n",
      "[5,   901] loss: 0.003 acc: 98.800\n"
     ]
    },
    {
     "name": "stderr",
     "output_type": "stream",
     "text": [
      "100%|█████████████████████████████████████████████| 5/5 [02:13<00:00, 26.64s/it]\n"
     ]
    },
    {
     "name": "stdout",
     "output_type": "stream",
     "text": [
      "Finished Training\n",
      "training time  133.2161431312561\n",
      "Iteration:  2 \t Observation:  99.200000\n"
     ]
    }
   ],
   "source": [
    "n_iterations = 3 #optimiser iterations\n",
    "xi = 0.001 #exploration-exploitation trade-off\n",
    "kappa = 0.5\n",
    "no_epochs = 5\n",
    "load_prev_values = True #load previous queries into optimiser before starting optimisation\n",
    "\n",
    "\n",
    "#Instatiate optimiser and kernel\n",
    "optimizer = BayesianOptimization(f=None, pbounds = hparam_ranges, verbose=2, random_state=2)\n",
    "\n",
    "kernel = ConstantKernel(constant_value = 1, constant_value_bounds = (1e-5, 1e5)) *\\\n",
    "    RBF(length_scale=1., length_scale_bounds = (1e-5, 1e3))\\\n",
    "    + WhiteKernel(noise_level=1, noise_level_bounds=(1e-5, 1e2))\n",
    "\n",
    "observation_arr = []\n",
    "query_arr = []\n",
    "time_arr = []\n",
    "\n",
    "hparam_values = {\"conv_f\": 3,\n",
    "                \"conv1_out_depth\": 10,\n",
    "                \"conv2_out_depth\": 16,\n",
    "                \"fc1_out\": 120,\n",
    "                \"fc2_out\": 84,\n",
    "                \"lr\": -2,\n",
    "                \"momentum\": -0.05} #hparams for the first iteration, to help with search\n",
    "\n",
    "if load_prev_values: \n",
    "    query_arr, observation_arr = load_previous_opt_results(query_arr, observation_arr)\n",
    "\n",
    "for i in range(n_iterations):\n",
    "    t1 = time.time()\n",
    "    \n",
    "    # ____________________________________________\n",
    "    # Suggest new query\n",
    "    if (load_prev_values) or i>=10:\n",
    "        print(\"\")\n",
    "        utility = UtilityFunction(kind=\"ei\", kappa=kappa, xi = xi)  #tune exploration vs exploitation\n",
    "        hparam_values = optimizer.suggest(utility)\n",
    "    \n",
    "    elif i < 1:\n",
    "        print(\"Debug: First entry\")\n",
    "        pass #takes default hparam_values\n",
    "\n",
    "    elif i in range(1,10): #in the first iterations, add random queries\n",
    "        print(\"Debug: Random trials\")\n",
    "        hparam_values = random_hparam(hparam_ranges)\n",
    "    \n",
    "    query_arr.append(list(hparam_values.values()))\n",
    "    print(f\"\\nIteration: {i: .0f} \\t hparams={hparam_values}\")\n",
    "\n",
    "    # ___________________________________\n",
    "    # Query objective function \n",
    "    observation_i = objective(hparam_values, no_epochs=no_epochs)\n",
    "\n",
    "    # ___________________________________\n",
    "    # Register observation\n",
    "    optimizer.register(params = hparam_values, target=observation_i)\n",
    "    observation_arr.append(observation_i)\n",
    "    \n",
    "    # ___________________________________\n",
    "    # Print query - observation\n",
    "    t2 = time.time()\n",
    "    time_arr.append(t2-t1)\n",
    "    print(f\"Iteration: {i: .0f} \\t Observation: {observation_i: .6f}\")\n",
    "    \n",
    "    # ___________________________________\n",
    "    #Save optimisation result\n",
    "    if i%10==0:\n",
    "        df_optimisation = pd.DataFrame(data = query_arr, columns = hparam_values.keys())\n",
    "        df_optimisation[\"acc\"] = observation_arr\n",
    "\n",
    "        now = datetime.datetime.now()\n",
    "        timestamp = str(now.strftime(\"%Y%m%d_%H%M%S\"))\n",
    "        label = timestamp + \"_results\"\n",
    "        df_optimisation.to_pickle(\"./optimisation_results/\"+label)\n"
   ]
  },
  {
   "cell_type": "code",
   "execution_count": 32,
   "id": "fad95cab",
   "metadata": {},
   "outputs": [
    {
     "data": {
      "text/html": [
       "<div>\n",
       "<style scoped>\n",
       "    .dataframe tbody tr th:only-of-type {\n",
       "        vertical-align: middle;\n",
       "    }\n",
       "\n",
       "    .dataframe tbody tr th {\n",
       "        vertical-align: top;\n",
       "    }\n",
       "\n",
       "    .dataframe thead th {\n",
       "        text-align: right;\n",
       "    }\n",
       "</style>\n",
       "<table border=\"1\" class=\"dataframe\">\n",
       "  <thead>\n",
       "    <tr style=\"text-align: right;\">\n",
       "      <th></th>\n",
       "      <th>conv1_out_depth</th>\n",
       "      <th>conv2_out_depth</th>\n",
       "      <th>conv_f</th>\n",
       "      <th>fc1_out</th>\n",
       "      <th>fc2_out</th>\n",
       "      <th>lr</th>\n",
       "      <th>momentum</th>\n",
       "      <th>acc</th>\n",
       "    </tr>\n",
       "  </thead>\n",
       "  <tbody>\n",
       "    <tr>\n",
       "      <th>0</th>\n",
       "      <td>3.000000</td>\n",
       "      <td>10.000000</td>\n",
       "      <td>16.000000</td>\n",
       "      <td>120.000000</td>\n",
       "      <td>84.000000</td>\n",
       "      <td>-2.000000</td>\n",
       "      <td>-0.050000</td>\n",
       "      <td>53.70</td>\n",
       "    </tr>\n",
       "    <tr>\n",
       "      <th>1</th>\n",
       "      <td>3.000000</td>\n",
       "      <td>4.000000</td>\n",
       "      <td>2.000000</td>\n",
       "      <td>77.000000</td>\n",
       "      <td>14.000000</td>\n",
       "      <td>0.004857</td>\n",
       "      <td>0.000116</td>\n",
       "      <td>10.00</td>\n",
       "    </tr>\n",
       "    <tr>\n",
       "      <th>2</th>\n",
       "      <td>1.000000</td>\n",
       "      <td>11.000000</td>\n",
       "      <td>2.000000</td>\n",
       "      <td>84.000000</td>\n",
       "      <td>46.000000</td>\n",
       "      <td>0.017036</td>\n",
       "      <td>0.001701</td>\n",
       "      <td>10.55</td>\n",
       "    </tr>\n",
       "    <tr>\n",
       "      <th>3</th>\n",
       "      <td>8.000000</td>\n",
       "      <td>17.000000</td>\n",
       "      <td>3.000000</td>\n",
       "      <td>159.000000</td>\n",
       "      <td>22.000000</td>\n",
       "      <td>0.073315</td>\n",
       "      <td>0.000812</td>\n",
       "      <td>12.30</td>\n",
       "    </tr>\n",
       "    <tr>\n",
       "      <th>4</th>\n",
       "      <td>5.000000</td>\n",
       "      <td>3.000000</td>\n",
       "      <td>6.000000</td>\n",
       "      <td>190.000000</td>\n",
       "      <td>191.000000</td>\n",
       "      <td>0.005192</td>\n",
       "      <td>0.000345</td>\n",
       "      <td>10.60</td>\n",
       "    </tr>\n",
       "    <tr>\n",
       "      <th>5</th>\n",
       "      <td>2.000000</td>\n",
       "      <td>3.000000</td>\n",
       "      <td>7.000000</td>\n",
       "      <td>69.000000</td>\n",
       "      <td>47.000000</td>\n",
       "      <td>0.025752</td>\n",
       "      <td>0.005399</td>\n",
       "      <td>12.30</td>\n",
       "    </tr>\n",
       "    <tr>\n",
       "      <th>6</th>\n",
       "      <td>3.000000</td>\n",
       "      <td>5.000000</td>\n",
       "      <td>19.000000</td>\n",
       "      <td>143.000000</td>\n",
       "      <td>148.000000</td>\n",
       "      <td>0.001807</td>\n",
       "      <td>0.005296</td>\n",
       "      <td>12.30</td>\n",
       "    </tr>\n",
       "    <tr>\n",
       "      <th>7</th>\n",
       "      <td>5.000000</td>\n",
       "      <td>9.000000</td>\n",
       "      <td>5.000000</td>\n",
       "      <td>36.000000</td>\n",
       "      <td>63.000000</td>\n",
       "      <td>0.001833</td>\n",
       "      <td>0.028551</td>\n",
       "      <td>10.55</td>\n",
       "    </tr>\n",
       "    <tr>\n",
       "      <th>8</th>\n",
       "      <td>6.000000</td>\n",
       "      <td>1.000000</td>\n",
       "      <td>10.000000</td>\n",
       "      <td>135.000000</td>\n",
       "      <td>5.000000</td>\n",
       "      <td>0.059116</td>\n",
       "      <td>0.000221</td>\n",
       "      <td>11.65</td>\n",
       "    </tr>\n",
       "    <tr>\n",
       "      <th>9</th>\n",
       "      <td>5.000000</td>\n",
       "      <td>7.000000</td>\n",
       "      <td>7.000000</td>\n",
       "      <td>1.000000</td>\n",
       "      <td>192.000000</td>\n",
       "      <td>0.003443</td>\n",
       "      <td>0.000156</td>\n",
       "      <td>11.65</td>\n",
       "    </tr>\n",
       "    <tr>\n",
       "      <th>10</th>\n",
       "      <td>9.863946</td>\n",
       "      <td>20.000000</td>\n",
       "      <td>3.524635</td>\n",
       "      <td>125.569604</td>\n",
       "      <td>87.816212</td>\n",
       "      <td>-3.961982</td>\n",
       "      <td>-1.000000</td>\n",
       "      <td>9.05</td>\n",
       "    </tr>\n",
       "    <tr>\n",
       "      <th>11</th>\n",
       "      <td>4.927046</td>\n",
       "      <td>10.054194</td>\n",
       "      <td>8.700400</td>\n",
       "      <td>125.035162</td>\n",
       "      <td>86.606651</td>\n",
       "      <td>-1.538353</td>\n",
       "      <td>-2.903241</td>\n",
       "      <td>24.80</td>\n",
       "    </tr>\n",
       "    <tr>\n",
       "      <th>12</th>\n",
       "      <td>4.520434</td>\n",
       "      <td>9.982420</td>\n",
       "      <td>8.370166</td>\n",
       "      <td>125.334198</td>\n",
       "      <td>89.893379</td>\n",
       "      <td>-2.732824</td>\n",
       "      <td>-2.120250</td>\n",
       "      <td>10.60</td>\n",
       "    </tr>\n",
       "    <tr>\n",
       "      <th>13</th>\n",
       "      <td>8.179221</td>\n",
       "      <td>10.430618</td>\n",
       "      <td>2.661161</td>\n",
       "      <td>163.161906</td>\n",
       "      <td>80.175022</td>\n",
       "      <td>-1.496883</td>\n",
       "      <td>-3.095223</td>\n",
       "      <td>11.50</td>\n",
       "    </tr>\n",
       "    <tr>\n",
       "      <th>14</th>\n",
       "      <td>14.574457</td>\n",
       "      <td>14.420714</td>\n",
       "      <td>1.026983</td>\n",
       "      <td>172.338385</td>\n",
       "      <td>164.293388</td>\n",
       "      <td>-2.102460</td>\n",
       "      <td>-1.637481</td>\n",
       "      <td>11.55</td>\n",
       "    </tr>\n",
       "    <tr>\n",
       "      <th>15</th>\n",
       "      <td>7.678989</td>\n",
       "      <td>15.634881</td>\n",
       "      <td>4.669846</td>\n",
       "      <td>35.289634</td>\n",
       "      <td>111.337058</td>\n",
       "      <td>-2.851271</td>\n",
       "      <td>-2.371021</td>\n",
       "      <td>11.65</td>\n",
       "    </tr>\n",
       "    <tr>\n",
       "      <th>16</th>\n",
       "      <td>13.489280</td>\n",
       "      <td>9.349873</td>\n",
       "      <td>1.012521</td>\n",
       "      <td>81.023439</td>\n",
       "      <td>194.864515</td>\n",
       "      <td>-1.244364</td>\n",
       "      <td>-3.416585</td>\n",
       "      <td>11.65</td>\n",
       "    </tr>\n",
       "    <tr>\n",
       "      <th>17</th>\n",
       "      <td>14.910578</td>\n",
       "      <td>5.027911</td>\n",
       "      <td>8.981228</td>\n",
       "      <td>21.944500</td>\n",
       "      <td>47.089270</td>\n",
       "      <td>-2.538545</td>\n",
       "      <td>-3.054423</td>\n",
       "      <td>10.00</td>\n",
       "    </tr>\n",
       "    <tr>\n",
       "      <th>18</th>\n",
       "      <td>5.902054</td>\n",
       "      <td>10.334708</td>\n",
       "      <td>1.154323</td>\n",
       "      <td>164.667819</td>\n",
       "      <td>20.880336</td>\n",
       "      <td>-1.355380</td>\n",
       "      <td>-3.077206</td>\n",
       "      <td>12.30</td>\n",
       "    </tr>\n",
       "    <tr>\n",
       "      <th>19</th>\n",
       "      <td>19.941694</td>\n",
       "      <td>8.231918</td>\n",
       "      <td>3.823963</td>\n",
       "      <td>64.944370</td>\n",
       "      <td>148.342828</td>\n",
       "      <td>-1.141024</td>\n",
       "      <td>-3.582241</td>\n",
       "      <td>36.85</td>\n",
       "    </tr>\n",
       "    <tr>\n",
       "      <th>20</th>\n",
       "      <td>4.263671</td>\n",
       "      <td>1.320738</td>\n",
       "      <td>1.234001</td>\n",
       "      <td>161.907377</td>\n",
       "      <td>155.797185</td>\n",
       "      <td>-3.705201</td>\n",
       "      <td>-3.989066</td>\n",
       "      <td>10.60</td>\n",
       "    </tr>\n",
       "    <tr>\n",
       "      <th>21</th>\n",
       "      <td>2.859836</td>\n",
       "      <td>8.749088</td>\n",
       "      <td>8.028085</td>\n",
       "      <td>142.071934</td>\n",
       "      <td>42.136952</td>\n",
       "      <td>-2.106036</td>\n",
       "      <td>-1.707997</td>\n",
       "      <td>12.45</td>\n",
       "    </tr>\n",
       "  </tbody>\n",
       "</table>\n",
       "</div>"
      ],
      "text/plain": [
       "    conv1_out_depth  conv2_out_depth     conv_f     fc1_out     fc2_out  \\\n",
       "0          3.000000        10.000000  16.000000  120.000000   84.000000   \n",
       "1          3.000000         4.000000   2.000000   77.000000   14.000000   \n",
       "2          1.000000        11.000000   2.000000   84.000000   46.000000   \n",
       "3          8.000000        17.000000   3.000000  159.000000   22.000000   \n",
       "4          5.000000         3.000000   6.000000  190.000000  191.000000   \n",
       "5          2.000000         3.000000   7.000000   69.000000   47.000000   \n",
       "6          3.000000         5.000000  19.000000  143.000000  148.000000   \n",
       "7          5.000000         9.000000   5.000000   36.000000   63.000000   \n",
       "8          6.000000         1.000000  10.000000  135.000000    5.000000   \n",
       "9          5.000000         7.000000   7.000000    1.000000  192.000000   \n",
       "10         9.863946        20.000000   3.524635  125.569604   87.816212   \n",
       "11         4.927046        10.054194   8.700400  125.035162   86.606651   \n",
       "12         4.520434         9.982420   8.370166  125.334198   89.893379   \n",
       "13         8.179221        10.430618   2.661161  163.161906   80.175022   \n",
       "14        14.574457        14.420714   1.026983  172.338385  164.293388   \n",
       "15         7.678989        15.634881   4.669846   35.289634  111.337058   \n",
       "16        13.489280         9.349873   1.012521   81.023439  194.864515   \n",
       "17        14.910578         5.027911   8.981228   21.944500   47.089270   \n",
       "18         5.902054        10.334708   1.154323  164.667819   20.880336   \n",
       "19        19.941694         8.231918   3.823963   64.944370  148.342828   \n",
       "20         4.263671         1.320738   1.234001  161.907377  155.797185   \n",
       "21         2.859836         8.749088   8.028085  142.071934   42.136952   \n",
       "\n",
       "          lr  momentum    acc  \n",
       "0  -2.000000 -0.050000  53.70  \n",
       "1   0.004857  0.000116  10.00  \n",
       "2   0.017036  0.001701  10.55  \n",
       "3   0.073315  0.000812  12.30  \n",
       "4   0.005192  0.000345  10.60  \n",
       "5   0.025752  0.005399  12.30  \n",
       "6   0.001807  0.005296  12.30  \n",
       "7   0.001833  0.028551  10.55  \n",
       "8   0.059116  0.000221  11.65  \n",
       "9   0.003443  0.000156  11.65  \n",
       "10 -3.961982 -1.000000   9.05  \n",
       "11 -1.538353 -2.903241  24.80  \n",
       "12 -2.732824 -2.120250  10.60  \n",
       "13 -1.496883 -3.095223  11.50  \n",
       "14 -2.102460 -1.637481  11.55  \n",
       "15 -2.851271 -2.371021  11.65  \n",
       "16 -1.244364 -3.416585  11.65  \n",
       "17 -2.538545 -3.054423  10.00  \n",
       "18 -1.355380 -3.077206  12.30  \n",
       "19 -1.141024 -3.582241  36.85  \n",
       "20 -3.705201 -3.989066  10.60  \n",
       "21 -2.106036 -1.707997  12.45  "
      ]
     },
     "execution_count": 32,
     "metadata": {},
     "output_type": "execute_result"
    }
   ],
   "source": [
    "df_optimisation"
   ]
  },
  {
   "cell_type": "markdown",
   "id": "3c212e65",
   "metadata": {},
   "source": [
    "# For an analysis of the results, see 3 Load optimisation results.ipynb"
   ]
  },
  {
   "cell_type": "code",
   "execution_count": null,
   "id": "f2593ae1",
   "metadata": {},
   "outputs": [],
   "source": []
  }
 ],
 "metadata": {
  "kernelspec": {
   "display_name": "Python 3 (ipykernel)",
   "language": "python",
   "name": "python3"
  },
  "language_info": {
   "codemirror_mode": {
    "name": "ipython",
    "version": 3
   },
   "file_extension": ".py",
   "mimetype": "text/x-python",
   "name": "python",
   "nbconvert_exporter": "python",
   "pygments_lexer": "ipython3",
   "version": "3.9.12"
  }
 },
 "nbformat": 4,
 "nbformat_minor": 5
}
